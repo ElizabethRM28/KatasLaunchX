{
 "cells": [
  {
   "cell_type": "code",
   "execution_count": 17,
   "metadata": {},
   "outputs": [
    {
     "name": "stdout",
     "output_type": "stream",
     "text": [
      "ADVERTNCIA Un asteroide esta cerca de la tierra\n"
     ]
    }
   ],
   "source": [
    "velas1 = 49\n",
    "velas2 = 25\n",
    "if velas1 >= velas2:\n",
    "    print(\"ADVERTNCIA Un asteroide esta cerca de la tierra\")\n",
    "else:\n",
    "    print(\"NO hay peligro\")"
   ]
  },
  {
   "cell_type": "code",
   "execution_count": 20,
   "metadata": {},
   "outputs": [
    {
     "name": "stdout",
     "output_type": "stream",
     "text": [
      "No pasa nada\n"
     ]
    }
   ],
   "source": [
    "velasteroide1 = 19\n",
    "if velasteroide1 > 20:\n",
    "    print (\"Hay un rayo de luz en el cielo\") \n",
    "elif velasteroide1 < 20:\n",
    "    print (\"No pasa nada\")\n",
    "else:\n",
    "    print (\"Hay un rayo de luz en el cielo\")"
   ]
  },
  {
   "cell_type": "code",
   "execution_count": 24,
   "metadata": {},
   "outputs": [
    {
     "name": "stdout",
     "output_type": "stream",
     "text": [
      "Advertencia un asteroide esta cerca de la tierra\n"
     ]
    }
   ],
   "source": [
    "medasteroide = 150\n",
    "vel_asteroide = 25\n",
    "if medasteroide > 25 and vel_asteroide > 25:\n",
    "    print (\"Advertencia un asteroide esta cerca d ela tierra\")\n",
    "elif medasteroide < 25:\n",
    "    print (\"NO hay peligro\")\n",
    "elif vel_asteroide < 25:\n",
    "    print (\"No hay peligro\")\n",
    "else:\n",
    "    print (\"Advertencia un asteroide esta cerca de la tierra\")"
   ]
  }
 ],
 "metadata": {
  "interpreter": {
   "hash": "4bc0847e9d97fd0d90054c711a2b6c3cbc5aac7cec911c04f4fb892d9dae3527"
  },
  "kernelspec": {
   "display_name": "Python 3.10.2 64-bit",
   "language": "python",
   "name": "python3"
  },
  "language_info": {
   "codemirror_mode": {
    "name": "ipython",
    "version": 3
   },
   "file_extension": ".py",
   "mimetype": "text/x-python",
   "name": "python",
   "nbconvert_exporter": "python",
   "pygments_lexer": "ipython3",
   "version": "3.10.2"
  },
  "orig_nbformat": 4
 },
 "nbformat": 4,
 "nbformat_minor": 2
}
